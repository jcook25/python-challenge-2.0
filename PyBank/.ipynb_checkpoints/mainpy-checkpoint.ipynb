{
 "cells": [
  {
   "cell_type": "code",
   "execution_count": 3,
   "metadata": {},
   "outputs": [
    {
     "name": "stdout",
     "output_type": "stream",
     "text": [
      "Financial Analysis\n",
      "------------------\n",
      "Total Months:86\n",
      "Total: $38382578\n",
      "Average Change: -2315.12\n",
      "Greatest Increase in Profits: Feb-2012 ($1926159)\n",
      "Greatest Decrease in Profits: Sep-2013 ($-2196167)\n"
     ]
    }
   ],
   "source": [
    "#Define function\n",
    "def py():    \n",
    "    \n",
    "    #Import module\n",
    "    import csv\n",
    "    \n",
    "    #Open and read csv file\n",
    "    file = (\"budget_data.csv\")\n",
    "    with open('budget_data.csv','r') as csvfile:\n",
    "        csvreader = csv.reader(csvfile, delimiter = ',')\n",
    "        header = next(csvreader)\n",
    "        \n",
    "        #Create lists to hold variables\n",
    "        month = []\n",
    "        profit = []\n",
    "        change = []\n",
    "        \n",
    "        #Add each row in columns 0 and 1 to the lists month and profit. Change the profit column to integers.\n",
    "        for row in csvreader:\n",
    "            month.append(row[0])\n",
    "            profit.append(int(row[1]))\n",
    "        \n",
    "        #Collect the changes in profit by iterating through the profit list\n",
    "        for i in range(len(profit)-1):\n",
    "            change.append(profit[i+1]-profit[i])\n",
    "            \n",
    "    #Find the max/min of change in profits    \n",
    "    pmax = max(change)\n",
    "    pmin = min(change)\n",
    "\n",
    "    #Find the index of the max change and move down 1 cell to get the proper index for the month\n",
    "    mmax = change.index(max(change)) + 1\n",
    "    mmin = change.index(min(change)) + 1\n",
    "\n",
    "\n",
    "    print (\"Financial Analysis\")\n",
    "    print (\"-\"*18)\n",
    "    print (f\"Total Months:{len(month)}\")\n",
    "    print (f\"Total: ${sum(profit)}\")\n",
    "    print (f\"Average Change: {round(sum(change)/len(change),2)}\")\n",
    "    print (f\"Greatest Increase in Profits: {month[mmax]} (${pmax})\")\n",
    "    print (f\"Greatest Decrease in Profits: {month[mmin]} (${pmin})\")\n",
    "\n",
    "        \n",
    "py()"
   ]
  },
  {
   "cell_type": "code",
   "execution_count": null,
   "metadata": {},
   "outputs": [],
   "source": []
  },
  {
   "cell_type": "code",
   "execution_count": null,
   "metadata": {},
   "outputs": [],
   "source": []
  },
  {
   "cell_type": "code",
   "execution_count": null,
   "metadata": {},
   "outputs": [],
   "source": []
  }
 ],
 "metadata": {
  "kernelspec": {
   "display_name": "Python 3",
   "language": "python",
   "name": "python3"
  },
  "language_info": {
   "codemirror_mode": {
    "name": "ipython",
    "version": 3
   },
   "file_extension": ".py",
   "mimetype": "text/x-python",
   "name": "python",
   "nbconvert_exporter": "python",
   "pygments_lexer": "ipython3",
   "version": "3.7.4"
  }
 },
 "nbformat": 4,
 "nbformat_minor": 4
}
